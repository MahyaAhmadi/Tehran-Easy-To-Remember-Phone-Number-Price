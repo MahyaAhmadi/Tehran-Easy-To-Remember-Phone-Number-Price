{
 "cells": [
  {
   "cell_type": "code",
   "execution_count": 1,
   "metadata": {},
   "outputs": [],
   "source": [
    "import pandas as pd\n",
    "import numpy as np\n",
    "import matplotlib.pyplot as plt\n",
    "from sklearn.preprocessing import StandardScaler\n",
    "from sklearn.neural_network import MLPRegressor\n",
    "from sklearn.metrics import r2_score\n",
    "from sklearn import metrics\n",
    "import pickle\n",
    "import os\n",
    "import sys\n",
    "df = pd.read_csv(\".\\\\data.csv\")\n",
    "p1=df['PriceUSD'].value_counts()\n",
    "df.drop(['Phone'] , inplace=True,axis=1)\n"
   ]
  },
  {
   "cell_type": "code",
   "execution_count": 2,
   "metadata": {},
   "outputs": [
    {
     "data": {
      "text/html": [
       "<div>\n",
       "<style scoped>\n",
       "    .dataframe tbody tr th:only-of-type {\n",
       "        vertical-align: middle;\n",
       "    }\n",
       "\n",
       "    .dataframe tbody tr th {\n",
       "        vertical-align: top;\n",
       "    }\n",
       "\n",
       "    .dataframe thead th {\n",
       "        text-align: right;\n",
       "    }\n",
       "</style>\n",
       "<table border=\"1\" class=\"dataframe\">\n",
       "  <thead>\n",
       "    <tr style=\"text-align: right;\">\n",
       "      <th></th>\n",
       "      <th>Counts</th>\n",
       "      <th>Ayeneie_21</th>\n",
       "      <th>Ayeneie_22</th>\n",
       "      <th>Ayeneie_23</th>\n",
       "      <th>Ayeneie_31</th>\n",
       "      <th>Ayeneie_32</th>\n",
       "      <th>Ayeneie_33</th>\n",
       "      <th>Tarazuie</th>\n",
       "      <th>Pleie21</th>\n",
       "      <th>Pleie22</th>\n",
       "      <th>...</th>\n",
       "      <th>RaghamDovom0</th>\n",
       "      <th>RaghamDovom1</th>\n",
       "      <th>RaghamDovom2</th>\n",
       "      <th>RaghamDovom3</th>\n",
       "      <th>RaghamDovom4</th>\n",
       "      <th>RaghamDovom5</th>\n",
       "      <th>RaghamDovom6</th>\n",
       "      <th>RaghamDovom7</th>\n",
       "      <th>RaghamDovom8</th>\n",
       "      <th>RaghamDovom9</th>\n",
       "    </tr>\n",
       "    <tr>\n",
       "      <th>PriceUSD</th>\n",
       "      <th></th>\n",
       "      <th></th>\n",
       "      <th></th>\n",
       "      <th></th>\n",
       "      <th></th>\n",
       "      <th></th>\n",
       "      <th></th>\n",
       "      <th></th>\n",
       "      <th></th>\n",
       "      <th></th>\n",
       "      <th></th>\n",
       "      <th></th>\n",
       "      <th></th>\n",
       "      <th></th>\n",
       "      <th></th>\n",
       "      <th></th>\n",
       "      <th></th>\n",
       "      <th></th>\n",
       "      <th></th>\n",
       "      <th></th>\n",
       "      <th></th>\n",
       "    </tr>\n",
       "  </thead>\n",
       "  <tbody>\n",
       "    <tr>\n",
       "      <th>173.33</th>\n",
       "      <td>2</td>\n",
       "      <td>0.0</td>\n",
       "      <td>0.0</td>\n",
       "      <td>0.0</td>\n",
       "      <td>0.0</td>\n",
       "      <td>0.0</td>\n",
       "      <td>0.0</td>\n",
       "      <td>0.0</td>\n",
       "      <td>0.000000</td>\n",
       "      <td>0.0</td>\n",
       "      <td>...</td>\n",
       "      <td>0.0</td>\n",
       "      <td>0.00</td>\n",
       "      <td>0.0</td>\n",
       "      <td>0.0</td>\n",
       "      <td>0.500000</td>\n",
       "      <td>0.000000</td>\n",
       "      <td>0.00</td>\n",
       "      <td>0.000000</td>\n",
       "      <td>0.000000</td>\n",
       "      <td>0.500000</td>\n",
       "    </tr>\n",
       "    <tr>\n",
       "      <th>176.67</th>\n",
       "      <td>15</td>\n",
       "      <td>0.0</td>\n",
       "      <td>0.0</td>\n",
       "      <td>0.0</td>\n",
       "      <td>0.0</td>\n",
       "      <td>0.0</td>\n",
       "      <td>0.0</td>\n",
       "      <td>0.0</td>\n",
       "      <td>0.133333</td>\n",
       "      <td>0.0</td>\n",
       "      <td>...</td>\n",
       "      <td>0.0</td>\n",
       "      <td>0.00</td>\n",
       "      <td>0.0</td>\n",
       "      <td>0.0</td>\n",
       "      <td>0.266667</td>\n",
       "      <td>0.133333</td>\n",
       "      <td>0.40</td>\n",
       "      <td>0.000000</td>\n",
       "      <td>0.066667</td>\n",
       "      <td>0.133333</td>\n",
       "    </tr>\n",
       "    <tr>\n",
       "      <th>178.33</th>\n",
       "      <td>3</td>\n",
       "      <td>0.0</td>\n",
       "      <td>0.0</td>\n",
       "      <td>0.0</td>\n",
       "      <td>0.0</td>\n",
       "      <td>0.0</td>\n",
       "      <td>0.0</td>\n",
       "      <td>0.0</td>\n",
       "      <td>0.000000</td>\n",
       "      <td>0.0</td>\n",
       "      <td>...</td>\n",
       "      <td>0.0</td>\n",
       "      <td>0.00</td>\n",
       "      <td>0.0</td>\n",
       "      <td>0.0</td>\n",
       "      <td>0.000000</td>\n",
       "      <td>0.333333</td>\n",
       "      <td>0.00</td>\n",
       "      <td>0.666667</td>\n",
       "      <td>0.000000</td>\n",
       "      <td>0.000000</td>\n",
       "    </tr>\n",
       "    <tr>\n",
       "      <th>180.00</th>\n",
       "      <td>20</td>\n",
       "      <td>0.0</td>\n",
       "      <td>0.0</td>\n",
       "      <td>0.0</td>\n",
       "      <td>0.0</td>\n",
       "      <td>0.0</td>\n",
       "      <td>0.0</td>\n",
       "      <td>0.0</td>\n",
       "      <td>0.000000</td>\n",
       "      <td>0.0</td>\n",
       "      <td>...</td>\n",
       "      <td>0.0</td>\n",
       "      <td>0.05</td>\n",
       "      <td>0.0</td>\n",
       "      <td>0.0</td>\n",
       "      <td>0.100000</td>\n",
       "      <td>0.450000</td>\n",
       "      <td>0.15</td>\n",
       "      <td>0.100000</td>\n",
       "      <td>0.150000</td>\n",
       "      <td>0.000000</td>\n",
       "    </tr>\n",
       "    <tr>\n",
       "      <th>181.67</th>\n",
       "      <td>2</td>\n",
       "      <td>0.0</td>\n",
       "      <td>0.0</td>\n",
       "      <td>0.0</td>\n",
       "      <td>0.0</td>\n",
       "      <td>0.0</td>\n",
       "      <td>0.0</td>\n",
       "      <td>0.0</td>\n",
       "      <td>0.000000</td>\n",
       "      <td>0.0</td>\n",
       "      <td>...</td>\n",
       "      <td>0.0</td>\n",
       "      <td>0.00</td>\n",
       "      <td>0.0</td>\n",
       "      <td>0.0</td>\n",
       "      <td>0.000000</td>\n",
       "      <td>0.000000</td>\n",
       "      <td>0.50</td>\n",
       "      <td>0.500000</td>\n",
       "      <td>0.000000</td>\n",
       "      <td>0.000000</td>\n",
       "    </tr>\n",
       "  </tbody>\n",
       "</table>\n",
       "<p>5 rows × 140 columns</p>\n",
       "</div>"
      ],
      "text/plain": [
       "          Counts  Ayeneie_21  Ayeneie_22  Ayeneie_23  Ayeneie_31  Ayeneie_32  \\\n",
       "PriceUSD                                                                       \n",
       "173.33         2         0.0         0.0         0.0         0.0         0.0   \n",
       "176.67        15         0.0         0.0         0.0         0.0         0.0   \n",
       "178.33         3         0.0         0.0         0.0         0.0         0.0   \n",
       "180.00        20         0.0         0.0         0.0         0.0         0.0   \n",
       "181.67         2         0.0         0.0         0.0         0.0         0.0   \n",
       "\n",
       "          Ayeneie_33  Tarazuie   Pleie21  Pleie22  ...  RaghamDovom0  \\\n",
       "PriceUSD                                           ...                 \n",
       "173.33           0.0       0.0  0.000000      0.0  ...           0.0   \n",
       "176.67           0.0       0.0  0.133333      0.0  ...           0.0   \n",
       "178.33           0.0       0.0  0.000000      0.0  ...           0.0   \n",
       "180.00           0.0       0.0  0.000000      0.0  ...           0.0   \n",
       "181.67           0.0       0.0  0.000000      0.0  ...           0.0   \n",
       "\n",
       "          RaghamDovom1  RaghamDovom2  RaghamDovom3  RaghamDovom4  \\\n",
       "PriceUSD                                                           \n",
       "173.33            0.00           0.0           0.0      0.500000   \n",
       "176.67            0.00           0.0           0.0      0.266667   \n",
       "178.33            0.00           0.0           0.0      0.000000   \n",
       "180.00            0.05           0.0           0.0      0.100000   \n",
       "181.67            0.00           0.0           0.0      0.000000   \n",
       "\n",
       "          RaghamDovom5  RaghamDovom6  RaghamDovom7  RaghamDovom8  RaghamDovom9  \n",
       "PriceUSD                                                                        \n",
       "173.33        0.000000          0.00      0.000000      0.000000      0.500000  \n",
       "176.67        0.133333          0.40      0.000000      0.066667      0.133333  \n",
       "178.33        0.333333          0.00      0.666667      0.000000      0.000000  \n",
       "180.00        0.450000          0.15      0.100000      0.150000      0.000000  \n",
       "181.67        0.000000          0.50      0.500000      0.000000      0.000000  \n",
       "\n",
       "[5 rows x 140 columns]"
      ]
     },
     "execution_count": 2,
     "metadata": {},
     "output_type": "execute_result"
    }
   ],
   "source": [
    "grouped_df=pd.DataFrame(df.groupby('PriceUSD').aggregate(np.mean))\n",
    "grouped_df.insert(0,\"Counts\",p1,True)\n",
    "grouped_df.head()"
   ]
  },
  {
   "cell_type": "code",
   "execution_count": 3,
   "metadata": {},
   "outputs": [],
   "source": [
    "cols = grouped_df.columns.values.tolist()\n",
    "X_cols = cols[1:]\n",
    "X = grouped_df[X_cols]\n",
    "y=grouped_df.index\n",
    "y_log = np.log(y)\n"
   ]
  },
  {
   "cell_type": "code",
   "execution_count": 4,
   "metadata": {},
   "outputs": [
    {
     "data": {
      "text/html": [
       "<style>#sk-container-id-1 {color: black;background-color: white;}#sk-container-id-1 pre{padding: 0;}#sk-container-id-1 div.sk-toggleable {background-color: white;}#sk-container-id-1 label.sk-toggleable__label {cursor: pointer;display: block;width: 100%;margin-bottom: 0;padding: 0.3em;box-sizing: border-box;text-align: center;}#sk-container-id-1 label.sk-toggleable__label-arrow:before {content: \"▸\";float: left;margin-right: 0.25em;color: #696969;}#sk-container-id-1 label.sk-toggleable__label-arrow:hover:before {color: black;}#sk-container-id-1 div.sk-estimator:hover label.sk-toggleable__label-arrow:before {color: black;}#sk-container-id-1 div.sk-toggleable__content {max-height: 0;max-width: 0;overflow: hidden;text-align: left;background-color: #f0f8ff;}#sk-container-id-1 div.sk-toggleable__content pre {margin: 0.2em;color: black;border-radius: 0.25em;background-color: #f0f8ff;}#sk-container-id-1 input.sk-toggleable__control:checked~div.sk-toggleable__content {max-height: 200px;max-width: 100%;overflow: auto;}#sk-container-id-1 input.sk-toggleable__control:checked~label.sk-toggleable__label-arrow:before {content: \"▾\";}#sk-container-id-1 div.sk-estimator input.sk-toggleable__control:checked~label.sk-toggleable__label {background-color: #d4ebff;}#sk-container-id-1 div.sk-label input.sk-toggleable__control:checked~label.sk-toggleable__label {background-color: #d4ebff;}#sk-container-id-1 input.sk-hidden--visually {border: 0;clip: rect(1px 1px 1px 1px);clip: rect(1px, 1px, 1px, 1px);height: 1px;margin: -1px;overflow: hidden;padding: 0;position: absolute;width: 1px;}#sk-container-id-1 div.sk-estimator {font-family: monospace;background-color: #f0f8ff;border: 1px dotted black;border-radius: 0.25em;box-sizing: border-box;margin-bottom: 0.5em;}#sk-container-id-1 div.sk-estimator:hover {background-color: #d4ebff;}#sk-container-id-1 div.sk-parallel-item::after {content: \"\";width: 100%;border-bottom: 1px solid gray;flex-grow: 1;}#sk-container-id-1 div.sk-label:hover label.sk-toggleable__label {background-color: #d4ebff;}#sk-container-id-1 div.sk-serial::before {content: \"\";position: absolute;border-left: 1px solid gray;box-sizing: border-box;top: 0;bottom: 0;left: 50%;z-index: 0;}#sk-container-id-1 div.sk-serial {display: flex;flex-direction: column;align-items: center;background-color: white;padding-right: 0.2em;padding-left: 0.2em;position: relative;}#sk-container-id-1 div.sk-item {position: relative;z-index: 1;}#sk-container-id-1 div.sk-parallel {display: flex;align-items: stretch;justify-content: center;background-color: white;position: relative;}#sk-container-id-1 div.sk-item::before, #sk-container-id-1 div.sk-parallel-item::before {content: \"\";position: absolute;border-left: 1px solid gray;box-sizing: border-box;top: 0;bottom: 0;left: 50%;z-index: -1;}#sk-container-id-1 div.sk-parallel-item {display: flex;flex-direction: column;z-index: 1;position: relative;background-color: white;}#sk-container-id-1 div.sk-parallel-item:first-child::after {align-self: flex-end;width: 50%;}#sk-container-id-1 div.sk-parallel-item:last-child::after {align-self: flex-start;width: 50%;}#sk-container-id-1 div.sk-parallel-item:only-child::after {width: 0;}#sk-container-id-1 div.sk-dashed-wrapped {border: 1px dashed gray;margin: 0 0.4em 0.5em 0.4em;box-sizing: border-box;padding-bottom: 0.4em;background-color: white;}#sk-container-id-1 div.sk-label label {font-family: monospace;font-weight: bold;display: inline-block;line-height: 1.2em;}#sk-container-id-1 div.sk-label-container {text-align: center;}#sk-container-id-1 div.sk-container {/* jupyter's `normalize.less` sets `[hidden] { display: none; }` but bootstrap.min.css set `[hidden] { display: none !important; }` so we also need the `!important` here to be able to override the default hidden behavior on the sphinx rendered scikit-learn.org. See: https://github.com/scikit-learn/scikit-learn/issues/21755 */display: inline-block !important;position: relative;}#sk-container-id-1 div.sk-text-repr-fallback {display: none;}</style><div id=\"sk-container-id-1\" class=\"sk-top-container\"><div class=\"sk-text-repr-fallback\"><pre>MLPRegressor(hidden_layer_sizes=(64, 32, 128, 32, 64), max_iter=1000)</pre><b>In a Jupyter environment, please rerun this cell to show the HTML representation or trust the notebook. <br />On GitHub, the HTML representation is unable to render, please try loading this page with nbviewer.org.</b></div><div class=\"sk-container\" hidden><div class=\"sk-item\"><div class=\"sk-estimator sk-toggleable\"><input class=\"sk-toggleable__control sk-hidden--visually\" id=\"sk-estimator-id-1\" type=\"checkbox\" checked><label for=\"sk-estimator-id-1\" class=\"sk-toggleable__label sk-toggleable__label-arrow\">MLPRegressor</label><div class=\"sk-toggleable__content\"><pre>MLPRegressor(hidden_layer_sizes=(64, 32, 128, 32, 64), max_iter=1000)</pre></div></div></div></div></div>"
      ],
      "text/plain": [
       "MLPRegressor(hidden_layer_sizes=(64, 32, 128, 32, 64), max_iter=1000)"
      ]
     },
     "execution_count": 4,
     "metadata": {},
     "output_type": "execute_result"
    }
   ],
   "source": [
    "sc = StandardScaler()\n",
    "\n",
    "scaler = sc.fit(X)\n",
    "X_scaled  = scaler.transform(X)\n",
    "#testX_scaled  = scaler.transform(X)\n",
    "\n",
    "mlp_reg = MLPRegressor(hidden_layer_sizes=(64,32,128,32,64),\n",
    "                       max_iter = 1000,activation = 'relu',# 'relu',\n",
    "                       solver = 'adam')\n",
    "mlp_reg.fit(X, y_log)\n"
   ]
  },
  {
   "cell_type": "code",
   "execution_count": 5,
   "metadata": {},
   "outputs": [
    {
     "name": "stdout",
     "output_type": "stream",
     "text": [
      "R^2= 0.9911192550163682\n"
     ]
    }
   ],
   "source": [
    "sample_weight = grouped_df['Counts'].to_numpy()\n",
    "\n",
    "print('R^2=' , mlp_reg.score(X, y_log, sample_weight = sample_weight))\n"
   ]
  },
  {
   "cell_type": "code",
   "execution_count": 6,
   "metadata": {},
   "outputs": [
    {
     "data": {
      "text/html": [
       "<div>\n",
       "<style scoped>\n",
       "    .dataframe tbody tr th:only-of-type {\n",
       "        vertical-align: middle;\n",
       "    }\n",
       "\n",
       "    .dataframe tbody tr th {\n",
       "        vertical-align: top;\n",
       "    }\n",
       "\n",
       "    .dataframe thead th {\n",
       "        text-align: right;\n",
       "    }\n",
       "</style>\n",
       "<table border=\"1\" class=\"dataframe\">\n",
       "  <thead>\n",
       "    <tr style=\"text-align: right;\">\n",
       "      <th></th>\n",
       "      <th>Actual</th>\n",
       "      <th>Predicted</th>\n",
       "    </tr>\n",
       "  </thead>\n",
       "  <tbody>\n",
       "    <tr>\n",
       "      <th>0</th>\n",
       "      <td>5.155197</td>\n",
       "      <td>5.346905</td>\n",
       "    </tr>\n",
       "    <tr>\n",
       "      <th>1</th>\n",
       "      <td>5.174284</td>\n",
       "      <td>5.259232</td>\n",
       "    </tr>\n",
       "    <tr>\n",
       "      <th>2</th>\n",
       "      <td>5.183636</td>\n",
       "      <td>5.267707</td>\n",
       "    </tr>\n",
       "    <tr>\n",
       "      <th>3</th>\n",
       "      <td>5.192957</td>\n",
       "      <td>5.331267</td>\n",
       "    </tr>\n",
       "    <tr>\n",
       "      <th>4</th>\n",
       "      <td>5.202192</td>\n",
       "      <td>5.375187</td>\n",
       "    </tr>\n",
       "  </tbody>\n",
       "</table>\n",
       "</div>"
      ],
      "text/plain": [
       "     Actual  Predicted\n",
       "0  5.155197   5.346905\n",
       "1  5.174284   5.259232\n",
       "2  5.183636   5.267707\n",
       "3  5.192957   5.331267\n",
       "4  5.202192   5.375187"
      ]
     },
     "execution_count": 6,
     "metadata": {},
     "output_type": "execute_result"
    }
   ],
   "source": [
    "y_pred = mlp_reg.predict(X)\n",
    "df_temp = pd.DataFrame({'Actual': y_log, 'Predicted': y_pred})\n",
    "df_temp.head()"
   ]
  },
  {
   "cell_type": "code",
   "execution_count": 7,
   "metadata": {},
   "outputs": [
    {
     "name": "stdout",
     "output_type": "stream",
     "text": [
      "Mean Absolute Error: 0.0797686328185232\n",
      "Mean Squared Error: 0.015169357882966679\n",
      "Root Mean Squared Error: 0.12316394717191666\n"
     ]
    }
   ],
   "source": [
    "print('Mean Absolute Error:', metrics.mean_absolute_error(y_log, y_pred))  \n",
    "print('Mean Squared Error:', metrics.mean_squared_error(y_log, y_pred))  \n",
    "print('Root Mean Squared Error:', np.sqrt(metrics.mean_squared_error(y_log, y_pred)))"
   ]
  },
  {
   "cell_type": "code",
   "execution_count": 8,
   "metadata": {},
   "outputs": [
    {
     "data": {
      "image/png": "[encoded data removed]",
      "text/plain": [
       "<Figure size 640x480 with 1 Axes>"
      ]
     },
     "metadata": {},
     "output_type": "display_data"
    }
   ],
   "source": [
    "plt.plot(mlp_reg.loss_curve_)\n",
    "plt.title(\"Loss Curve\", fontsize=14)\n",
    "plt.xlabel('Iterations')\n",
    "plt.ylabel('Cost')\n",
    "plt.show()"
   ]
  },
  {
   "cell_type": "code",
   "execution_count": 9,
   "metadata": {},
   "outputs": [
    {
     "data": {
      "image/png": "[encoded data removed]",
      "text/plain": [
       "<Figure size 640x480 with 1 Axes>"
      ]
     },
     "metadata": {},
     "output_type": "display_data"
    }
   ],
   "source": [
    "from sklearn.linear_model import LinearRegression\n",
    "fig, ax = plt.subplots()\n",
    "plt.scatter(y_log, y_pred)\n",
    "ax.plot([y_log.min(), y_log.max()], [y_log.min(), y_log.max()], 'k--', lw=4)\n",
    "ax.set_xlabel('Actual(y_log)')\n",
    "ax.set_ylabel('Predicted')\n",
    "#regression line\n",
    "y2=y_log.values\n",
    "y_test, y_predicted = y2.reshape((-1,1)), y_pred.reshape((-1,1))\n",
    "#ax.plot(y_test, LinearRegression().fit(y_test, y_predicted).predict(y_test))\n",
    "plt.annotate(\"r-squared = {:.3f}\".format(r2_score(y_log, y_pred)), (0, 1))\n",
    "plt.show()"
   ]
  },
  {
   "cell_type": "code",
   "execution_count": 10,
   "metadata": {},
   "outputs": [],
   "source": [
    "# save the model to disk\n",
    "filename = 'phoneNumberPredict_model.sav'\n",
    "pickle.dump(mlp_reg, open(filename, 'wb'))"
   ]
  },
  {
   "cell_type": "code",
   "execution_count": 11,
   "metadata": {},
   "outputs": [],
   "source": [
    "n=['09121096396','09121097954','09121421870','09121613442','09121830068',\n",
    "'09121832349','09121901644','09122027496','09122027683','09121197956',\n",
    "'09121137084','09121160917','09125863009','09123879050','09123888653',\n",
    "'09121166541','09122064378','09122069135','09122080307','09122096585',\n",
    "'09128821650','09128854151','09126791419','09126799699','09126818146',\n",
    "'09128920262','09128927092','09128946033','09127096095','09127121514',\n",
    "'09127129372','09127145956','09127148287','09127163438','09127183431',\n",
    "'09127232018','09127343898','09127380638','09127400258','09127535382']\n",
    "p=[181500000,151000000,112000000,110000000,\n",
    "162000000,89000000,104000000,74000000,74000000,147000000,\n",
    "180000000,392000000,37500000,51500000,44000000,174000000,\n",
    "56000000,56000000,117000000,70000000,19000000,17000000,\n",
    "24000000,40300000,29900000,20200000,21400000,16900000,\n",
    "20600000,28000000,18000000,21700000,21700000,21700000,\n",
    "21700000,24000000,21000000,34000000,30000000,28000000]\n",
    "p=[i*0.044 for i in p]\n",
    "p=pd.Series(p)\n",
    "\n"
   ]
  },
  {
   "cell_type": "code",
   "execution_count": 12,
   "metadata": {},
   "outputs": [
    {
     "name": "stderr",
     "output_type": "stream",
     "text": [
      "c:\\Users\\Mojtaba-BSF\\miniconda3\\envs\\bsf-env\\lib\\site-packages\\sklearn\\base.py:420: UserWarning: X does not have valid feature names, but MLPRegressor was fitted with feature names\n",
      "  warnings.warn(\n",
      "c:\\Users\\Mojtaba-BSF\\miniconda3\\envs\\bsf-env\\lib\\site-packages\\sklearn\\base.py:420: UserWarning: X does not have valid feature names, but MLPRegressor was fitted with feature names\n",
      "  warnings.warn(\n",
      "c:\\Users\\Mojtaba-BSF\\miniconda3\\envs\\bsf-env\\lib\\site-packages\\sklearn\\base.py:420: UserWarning: X does not have valid feature names, but MLPRegressor was fitted with feature names\n",
      "  warnings.warn(\n",
      "c:\\Users\\Mojtaba-BSF\\miniconda3\\envs\\bsf-env\\lib\\site-packages\\sklearn\\base.py:420: UserWarning: X does not have valid feature names, but MLPRegressor was fitted with feature names\n",
      "  warnings.warn(\n",
      "c:\\Users\\Mojtaba-BSF\\miniconda3\\envs\\bsf-env\\lib\\site-packages\\sklearn\\base.py:420: UserWarning: X does not have valid feature names, but MLPRegressor was fitted with feature names\n",
      "  warnings.warn(\n",
      "c:\\Users\\Mojtaba-BSF\\miniconda3\\envs\\bsf-env\\lib\\site-packages\\sklearn\\base.py:420: UserWarning: X does not have valid feature names, but MLPRegressor was fitted with feature names\n",
      "  warnings.warn(\n",
      "c:\\Users\\Mojtaba-BSF\\miniconda3\\envs\\bsf-env\\lib\\site-packages\\sklearn\\base.py:420: UserWarning: X does not have valid feature names, but MLPRegressor was fitted with feature names\n",
      "  warnings.warn(\n",
      "c:\\Users\\Mojtaba-BSF\\miniconda3\\envs\\bsf-env\\lib\\site-packages\\sklearn\\base.py:420: UserWarning: X does not have valid feature names, but MLPRegressor was fitted with feature names\n",
      "  warnings.warn(\n",
      "c:\\Users\\Mojtaba-BSF\\miniconda3\\envs\\bsf-env\\lib\\site-packages\\sklearn\\base.py:420: UserWarning: X does not have valid feature names, but MLPRegressor was fitted with feature names\n",
      "  warnings.warn(\n",
      "c:\\Users\\Mojtaba-BSF\\miniconda3\\envs\\bsf-env\\lib\\site-packages\\sklearn\\base.py:420: UserWarning: X does not have valid feature names, but MLPRegressor was fitted with feature names\n",
      "  warnings.warn(\n",
      "c:\\Users\\Mojtaba-BSF\\miniconda3\\envs\\bsf-env\\lib\\site-packages\\sklearn\\base.py:420: UserWarning: X does not have valid feature names, but MLPRegressor was fitted with feature names\n",
      "  warnings.warn(\n",
      "c:\\Users\\Mojtaba-BSF\\miniconda3\\envs\\bsf-env\\lib\\site-packages\\sklearn\\base.py:420: UserWarning: X does not have valid feature names, but MLPRegressor was fitted with feature names\n",
      "  warnings.warn(\n",
      "c:\\Users\\Mojtaba-BSF\\miniconda3\\envs\\bsf-env\\lib\\site-packages\\sklearn\\base.py:420: UserWarning: X does not have valid feature names, but MLPRegressor was fitted with feature names\n",
      "  warnings.warn(\n",
      "c:\\Users\\Mojtaba-BSF\\miniconda3\\envs\\bsf-env\\lib\\site-packages\\sklearn\\base.py:420: UserWarning: X does not have valid feature names, but MLPRegressor was fitted with feature names\n",
      "  warnings.warn(\n",
      "c:\\Users\\Mojtaba-BSF\\miniconda3\\envs\\bsf-env\\lib\\site-packages\\sklearn\\base.py:420: UserWarning: X does not have valid feature names, but MLPRegressor was fitted with feature names\n",
      "  warnings.warn(\n",
      "c:\\Users\\Mojtaba-BSF\\miniconda3\\envs\\bsf-env\\lib\\site-packages\\sklearn\\base.py:420: UserWarning: X does not have valid feature names, but MLPRegressor was fitted with feature names\n",
      "  warnings.warn(\n",
      "c:\\Users\\Mojtaba-BSF\\miniconda3\\envs\\bsf-env\\lib\\site-packages\\sklearn\\base.py:420: UserWarning: X does not have valid feature names, but MLPRegressor was fitted with feature names\n",
      "  warnings.warn(\n",
      "c:\\Users\\Mojtaba-BSF\\miniconda3\\envs\\bsf-env\\lib\\site-packages\\sklearn\\base.py:420: UserWarning: X does not have valid feature names, but MLPRegressor was fitted with feature names\n",
      "  warnings.warn(\n",
      "c:\\Users\\Mojtaba-BSF\\miniconda3\\envs\\bsf-env\\lib\\site-packages\\sklearn\\base.py:420: UserWarning: X does not have valid feature names, but MLPRegressor was fitted with feature names\n",
      "  warnings.warn(\n",
      "c:\\Users\\Mojtaba-BSF\\miniconda3\\envs\\bsf-env\\lib\\site-packages\\sklearn\\base.py:420: UserWarning: X does not have valid feature names, but MLPRegressor was fitted with feature names\n",
      "  warnings.warn(\n",
      "c:\\Users\\Mojtaba-BSF\\miniconda3\\envs\\bsf-env\\lib\\site-packages\\sklearn\\base.py:420: UserWarning: X does not have valid feature names, but MLPRegressor was fitted with feature names\n",
      "  warnings.warn(\n",
      "c:\\Users\\Mojtaba-BSF\\miniconda3\\envs\\bsf-env\\lib\\site-packages\\sklearn\\base.py:420: UserWarning: X does not have valid feature names, but MLPRegressor was fitted with feature names\n",
      "  warnings.warn(\n",
      "c:\\Users\\Mojtaba-BSF\\miniconda3\\envs\\bsf-env\\lib\\site-packages\\sklearn\\base.py:420: UserWarning: X does not have valid feature names, but MLPRegressor was fitted with feature names\n",
      "  warnings.warn(\n",
      "c:\\Users\\Mojtaba-BSF\\miniconda3\\envs\\bsf-env\\lib\\site-packages\\sklearn\\base.py:420: UserWarning: X does not have valid feature names, but MLPRegressor was fitted with feature names\n",
      "  warnings.warn(\n",
      "c:\\Users\\Mojtaba-BSF\\miniconda3\\envs\\bsf-env\\lib\\site-packages\\sklearn\\base.py:420: UserWarning: X does not have valid feature names, but MLPRegressor was fitted with feature names\n",
      "  warnings.warn(\n",
      "c:\\Users\\Mojtaba-BSF\\miniconda3\\envs\\bsf-env\\lib\\site-packages\\sklearn\\base.py:420: UserWarning: X does not have valid feature names, but MLPRegressor was fitted with feature names\n",
      "  warnings.warn(\n",
      "c:\\Users\\Mojtaba-BSF\\miniconda3\\envs\\bsf-env\\lib\\site-packages\\sklearn\\base.py:420: UserWarning: X does not have valid feature names, but MLPRegressor was fitted with feature names\n",
      "  warnings.warn(\n",
      "c:\\Users\\Mojtaba-BSF\\miniconda3\\envs\\bsf-env\\lib\\site-packages\\sklearn\\base.py:420: UserWarning: X does not have valid feature names, but MLPRegressor was fitted with feature names\n",
      "  warnings.warn(\n",
      "c:\\Users\\Mojtaba-BSF\\miniconda3\\envs\\bsf-env\\lib\\site-packages\\sklearn\\base.py:420: UserWarning: X does not have valid feature names, but MLPRegressor was fitted with feature names\n",
      "  warnings.warn(\n",
      "c:\\Users\\Mojtaba-BSF\\miniconda3\\envs\\bsf-env\\lib\\site-packages\\sklearn\\base.py:420: UserWarning: X does not have valid feature names, but MLPRegressor was fitted with feature names\n",
      "  warnings.warn(\n",
      "c:\\Users\\Mojtaba-BSF\\miniconda3\\envs\\bsf-env\\lib\\site-packages\\sklearn\\base.py:420: UserWarning: X does not have valid feature names, but MLPRegressor was fitted with feature names\n",
      "  warnings.warn(\n",
      "c:\\Users\\Mojtaba-BSF\\miniconda3\\envs\\bsf-env\\lib\\site-packages\\sklearn\\base.py:420: UserWarning: X does not have valid feature names, but MLPRegressor was fitted with feature names\n",
      "  warnings.warn(\n",
      "c:\\Users\\Mojtaba-BSF\\miniconda3\\envs\\bsf-env\\lib\\site-packages\\sklearn\\base.py:420: UserWarning: X does not have valid feature names, but MLPRegressor was fitted with feature names\n",
      "  warnings.warn(\n",
      "c:\\Users\\Mojtaba-BSF\\miniconda3\\envs\\bsf-env\\lib\\site-packages\\sklearn\\base.py:420: UserWarning: X does not have valid feature names, but MLPRegressor was fitted with feature names\n",
      "  warnings.warn(\n",
      "c:\\Users\\Mojtaba-BSF\\miniconda3\\envs\\bsf-env\\lib\\site-packages\\sklearn\\base.py:420: UserWarning: X does not have valid feature names, but MLPRegressor was fitted with feature names\n",
      "  warnings.warn(\n",
      "c:\\Users\\Mojtaba-BSF\\miniconda3\\envs\\bsf-env\\lib\\site-packages\\sklearn\\base.py:420: UserWarning: X does not have valid feature names, but MLPRegressor was fitted with feature names\n",
      "  warnings.warn(\n",
      "c:\\Users\\Mojtaba-BSF\\miniconda3\\envs\\bsf-env\\lib\\site-packages\\sklearn\\base.py:420: UserWarning: X does not have valid feature names, but MLPRegressor was fitted with feature names\n",
      "  warnings.warn(\n",
      "c:\\Users\\Mojtaba-BSF\\miniconda3\\envs\\bsf-env\\lib\\site-packages\\sklearn\\base.py:420: UserWarning: X does not have valid feature names, but MLPRegressor was fitted with feature names\n",
      "  warnings.warn(\n",
      "c:\\Users\\Mojtaba-BSF\\miniconda3\\envs\\bsf-env\\lib\\site-packages\\sklearn\\base.py:420: UserWarning: X does not have valid feature names, but MLPRegressor was fitted with feature names\n",
      "  warnings.warn(\n",
      "c:\\Users\\Mojtaba-BSF\\miniconda3\\envs\\bsf-env\\lib\\site-packages\\sklearn\\base.py:420: UserWarning: X does not have valid feature names, but MLPRegressor was fitted with feature names\n",
      "  warnings.warn(\n"
     ]
    }
   ],
   "source": [
    "module_path = os.path.abspath(os.path.join('.\\\\FeatureConstructor '))\n",
    "if module_path not in sys.path:\n",
    "    sys.path.append(module_path)\n",
    "\n",
    "import FeatureConstructor as pn\n",
    "pre=[]\n",
    "for i in n:\n",
    "    h= pn.predictPrice(i)\n",
    "    pre.append(float(h[1]))\n",
    "\n",
    "pre=pd.Series(pre)"
   ]
  },
  {
   "cell_type": "code",
   "execution_count": 13,
   "metadata": {},
   "outputs": [
    {
     "data": {
      "image/png": "[encoded data removed]",
      "text/plain": [
       "<Figure size 640x480 with 1 Axes>"
      ]
     },
     "metadata": {},
     "output_type": "display_data"
    },
    {
     "name": "stdout",
     "output_type": "stream",
     "text": [
      "Correlation: 0.8234078527146347\n"
     ]
    }
   ],
   "source": [
    "fig, ax = plt.subplots()\n",
    "ax.set_xlabel('Actual(price)')\n",
    "ax.set_ylabel('Predicted_price')\n",
    "plt.scatter(p,pre)\n",
    "Actual, Predicted_price = p.values.reshape((-1,1)),pre.values.reshape((-1,1))\n",
    "ax.plot(Actual, LinearRegression().fit(Actual, Predicted_price).predict(Actual))\n",
    "plt.annotate(\"r-squared = {:.3f}\".format(r2_score(Actual, Predicted_price)), (0, 1))\n",
    "plt.show()\n",
    "print('Correlation:',p.corr(pre,method='spearman'))"
   ]
  },
  {
   "cell_type": "code",
   "execution_count": null,
   "metadata": {},
   "outputs": [],
   "source": []
  },
  {
   "cell_type": "code",
   "execution_count": null,
   "metadata": {},
   "outputs": [],
   "source": []
  }
 ],
 "metadata": {
  "kernelspec": {
   "display_name": "bsf-env",
   "language": "python",
   "name": "python3"
  },
  "language_info": {
   "codemirror_mode": {
    "name": "ipython",
    "version": 3
   },
   "file_extension": ".py",
   "mimetype": "text/x-python",
   "name": "python",
   "nbconvert_exporter": "python",
   "pygments_lexer": "ipython3",
   "version": "3.10.6"
  },
  "orig_nbformat": 4,
  "vscode": {
   "interpreter": {
    "hash": "6193ec7e6a47319af36e3926715113b4e390e98169ed8978bf3d25ec4ca37ce4"
   }
  }
 },
 "nbformat": 4,
 "nbformat_minor": 2
}
