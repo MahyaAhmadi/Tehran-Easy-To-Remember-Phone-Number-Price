{
 "cells": [
  {
   "cell_type": "code",
   "execution_count": 1,
   "metadata": {},
   "outputs": [],
   "source": [
    "import numpy as np\n",
    "import pandas as pd\n"
   ]
  },
  {
   "cell_type": "code",
   "execution_count": 2,
   "metadata": {},
   "outputs": [],
   "source": [
    "\n",
    "# get data from phone.csv and set phone number on index\n",
    "df_phone = pd.read_csv('.\\\\phone.csv', index_col=None)\n",
    "\n",
    "#df_phone.shape, df_phone.dtypes\n",
    "\n",
    "#===============================================================================================\n",
    "# Removing duplicate rows data\n",
    "if any(df_phone.duplicated()):\n",
    "    df_phone.drop_duplicates(inplace=True)\n",
    "\n",
    "#df_phone.shape\n",
    "\n",
    "#===============================================================================================\n",
    "# get only 0912....\n",
    "df_phone.Phone[0][:4] #!= '0912'\n",
    "map_not912 = map(lambda _: _[:4] != '0912', df_phone.Phone[:])\n",
    "df_phone.drop(df_phone.index[list(map_not912)], inplace=True)\n",
    "\n",
    "#===============================================================================================\n",
    "# clear word_number\n",
    "lam_ = lambda x: any(list(map(lambda _: _.isalpha(), df_phone['HowToRead'].iloc[x])))\n",
    "list_characNumber = [lam_(_) for _ in range(len(df_phone))]\n",
    "df_phone.drop(df_phone[list_characNumber].index, inplace=True)\n",
    "\n",
    "#===============================================================================================\n",
    "# remove Price based on Rial and HowToRead\n",
    "df_phone.drop('Price', inplace=True, axis=1)\n",
    "df_phone.drop('HowToRead', inplace=True, axis=1)\n",
    "\n",
    "#===============================================================================================\n",
    "# set phone column on index\n",
    "df_phone.set_index('Phone', inplace = True)\n",
    "\n"
   ]
  },
  {
   "cell_type": "code",
   "execution_count": 3,
   "metadata": {},
   "outputs": [],
   "source": [
    "\n",
    "RaghamAval = [f'RaghamAval{i}' for i in range(10)]\n",
    "RaghamDovom = [f'RaghamDovom{i}' for i in range(10)]\n",
    "\n",
    "roundType = ['Ayeneie_21', 'Ayeneie_22', 'Ayeneie_23', 'Ayeneie_31', 'Ayeneie_32', 'Ayeneie_33',\\\n",
    "        'Tarazuie',\\\n",
    "            'Pleie21', 'Pleie22' ,'Pleie31' ,'Pleie23', 'Pleie32', 'Pleie24', 'Pleie25','Pleie33' ,'Pleie34',\\\n",
    "                'Joft21', 'Joft22', 'Joft23', 'Joft26', 'Joft24', 'Joft25', 'Joft31', 'Joft32',\\\n",
    "                    'DahDahi11', 'DahDahi12' ,'DahDahi21', 'DahDahi22', 'DahDahi31', 'DahDahi32', 'DahDahi41' ,'DahDahi42', 'DahDahi13', 'DahDahi14', 'DahDahi23', 'DahDahi24',\\\n",
    "                        'SadSadi11' ,'SadSadi12' ,'SadSadi21', 'SadSadi22',\\\n",
    "                            'CodeHezari11', 'CodeHezari12', 'CodeHezari13', 'CodeHezari21', 'CodeHezari22', 'CodeHezari23', 'CodeHezari14', 'CodeHezari24', \\\n",
    "                                'CodeDahHezari11', 'CodeDahHezari12', 'CodeDahHezari21', 'CodeDahHezari22',\\\n",
    "                                    'CodeMiluni',\\\n",
    "                                        'َAz2adad',\\\n",
    "                                            '3raghamAvalYeki','4raghamAvalYeki', '5raghamAvalYeki', '6raghamAvalYeki',\\\n",
    "                                                '3raghamAkharYeki', '4raghamAkharYeki', '5raghamAkharYeki', '6raghamAkharYeki',\\\n",
    "                                                    '7raghamYeki',\\\n",
    "                                                        '3raghamVasatYeki01', '3raghamVasatYeki02', '3raghamVasatYeki03','4raghamVasatYeki01','4raghamVasatYeki02','5raghamVasatYeki', \\\n",
    "                                                            'CodePaien1', 'CodePaien2', 'CodePaien3', 'CodePaien4', 'CodePaien5',\\\n",
    "                                                                'TarikhTavalodS1', 'TarikhTavalodS2', 'TarikhTavalodM1', 'TarikhTavalodM2', \\\n",
    "                                                                    'PishShomreA01', 'PishShomreA02', 'PishShomreB01', 'PishShomreB02', \\\n",
    "                                                                        'CodeRiz','doRaghamYeki24','doRaghamYeki23','doRaghamYeki22','doRaghamYeki21','doRaghamYeki25','doRaghamYeki26',\\\n",
    "                                                                            'TartibiA02', 'TartibiA03', 'TartibiA04', 'TartibiA05',\\\n",
    "                                                                                'TartibiA13', 'TartibiA14', 'TartibiA15',\\\n",
    "                                                                                    'TartibiA24', 'TartibiA25',\\\n",
    "                                                                                        'TartibiA35',\\\n",
    "                                                                                            'TartibiA60','TartibiA61','TartibiA62','TartibiA63','TartibiA64',\\\n",
    "                                                                                                'TartibiB02', 'TartibiB03', 'TartibiB04', 'TartibiB05',\\\n",
    "                                                                                                    'TartibiB13', 'TartibiB14', 'TartibiB15',\\\n",
    "                                                                                                        'TartibiB24','TartibiB25',\\\n",
    "                                                                                                            'TartibiB35',\\\n",
    "                                                                                                                'TartibiB60','TartibiB61','TartibiB62','TartibiB63','TartibiB64',\\\n",
    "                                                                                                                   *RaghamAval, *RaghamDovom]\n",
    "                                                                                                                   \n",
    "                                                                                                                       \n",
    "\n",
    "\n",
    "#===============================================================================================\n",
    "fea = np.zeros((df_phone.shape[0],), np.int8)\n",
    "df_fea =  pd.DataFrame(dict.fromkeys(roundType, fea))\n",
    " \n",
    " #===============================================================================================\n",
    "df_fea['Phone'] = df_phone.index\n",
    "df_fea.set_index('Phone', inplace = True)\n",
    "  \n",
    " #=============================================================================================== \n",
    "df = pd.concat((df_phone, df_fea), join='outer' , axis=1)\n",
    "\n",
    "df[roundType] = df[roundType].astype(np.int8)\n"
   ]
  },
  {
   "cell_type": "code",
   "execution_count": 4,
   "metadata": {},
   "outputs": [],
   "source": [
    "\n",
    "import os\n",
    "import sys\n",
    "\n",
    "module_path = os.path.abspath(os.path.join('.\\\\PhoneNumber'))\n",
    "if module_path not in sys.path:\n",
    "    sys.path.append(module_path)\n",
    "\n",
    "#===============================================================================================    \n",
    "import FeatureConstructor as pn    \n",
    "\n",
    "#fea = pn.RoundFeatures('09121760200')\n",
    "#fea"
   ]
  },
  {
   "cell_type": "code",
   "execution_count": 5,
   "metadata": {},
   "outputs": [],
   "source": [
    "fea_ = lambda _: pn.RoundFeatures(df.index[_])\n",
    "\n",
    "for ph in range(df.shape[0]):\n",
    "    fea ,v= fea_(ph)\n",
    "    if len(fea) != 0:\n",
    "        df.loc[df.index[ph], list(fea.keys())] = 1\n",
    "        \n",
    "\n",
    "\n",
    "\n",
    "\n",
    "\n",
    "\n",
    "\n",
    "df.to_csv('data.csv')\n",
    "\n"
   ]
  },
  {
   "cell_type": "code",
   "execution_count": null,
   "metadata": {},
   "outputs": [],
   "source": []
  }
 ],
 "metadata": {
  "kernelspec": {
   "display_name": "mahya-env",
   "language": "python",
   "name": "python3"
  },
  "language_info": {
   "codemirror_mode": {
    "name": "ipython",
    "version": 3
   },
   "file_extension": ".py",
   "mimetype": "text/x-python",
   "name": "python",
   "nbconvert_exporter": "python",
   "pygments_lexer": "ipython3",
   "version": "3.10.6"
  },
  "orig_nbformat": 4,
  "vscode": {
   "interpreter": {
    "hash": "31a60d3b9c31d76cf4d46a86f42a3c8fe39085d4275870fc435f4400f18e7f8a"
   }
  }
 },
 "nbformat": 4,
 "nbformat_minor": 2
}
